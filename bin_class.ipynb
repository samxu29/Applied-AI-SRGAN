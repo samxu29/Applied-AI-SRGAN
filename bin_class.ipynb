{
 "cells": [
  {
   "cell_type": "code",
   "execution_count": 1,
   "id": "5e0f973b",
   "metadata": {
    "_cell_guid": "b1076dfc-b9ad-4769-8c92-a6c4dae69d19",
    "_uuid": "8f2839f25d086af736a60e9eeb907d3b93b6e0e5",
    "execution": {
     "iopub.execute_input": "2023-09-23T15:11:34.589460Z",
     "iopub.status.busy": "2023-09-23T15:11:34.588711Z",
     "iopub.status.idle": "2023-09-23T15:11:35.829447Z",
     "shell.execute_reply": "2023-09-23T15:11:35.828461Z"
    },
    "papermill": {
     "duration": 1.258111,
     "end_time": "2023-09-23T15:11:35.832549",
     "exception": false,
     "start_time": "2023-09-23T15:11:34.574438",
     "status": "completed"
    },
    "tags": []
   },
   "outputs": [],
   "source": [
    "import numpy as np\n",
    "import pandas as pd\n",
    "import os, shutil\n",
    "import warnings\n",
    "warnings.filterwarnings(\"ignore\")"
   ]
  },
  {
   "cell_type": "code",
   "execution_count": 2,
   "id": "2c02b537",
   "metadata": {
    "execution": {
     "iopub.execute_input": "2023-09-23T15:11:35.850742Z",
     "iopub.status.busy": "2023-09-23T15:11:35.850352Z",
     "iopub.status.idle": "2023-09-23T15:11:35.854487Z",
     "shell.execute_reply": "2023-09-23T15:11:35.853480Z"
    },
    "papermill": {
     "duration": 0.015829,
     "end_time": "2023-09-23T15:11:35.857085",
     "exception": false,
     "start_time": "2023-09-23T15:11:35.841256",
     "status": "completed"
    },
    "tags": []
   },
   "outputs": [],
   "source": [
    "# delet all file\n",
    "# shutil.rmtree('/kaggle/working/Dataset')"
   ]
  },
  {
   "cell_type": "markdown",
   "id": "18843a83",
   "metadata": {
    "papermill": {
     "duration": 0.007806,
     "end_time": "2023-09-23T15:11:35.875286",
     "exception": false,
     "start_time": "2023-09-23T15:11:35.867480",
     "status": "completed"
    },
    "tags": []
   },
   "source": [
    "# Create new paths and place files"
   ]
  },
  {
   "cell_type": "code",
   "execution_count": 3,
   "id": "62eabb20",
   "metadata": {
    "execution": {
     "iopub.execute_input": "2023-09-23T15:11:35.892594Z",
     "iopub.status.busy": "2023-09-23T15:11:35.892320Z",
     "iopub.status.idle": "2023-09-23T15:11:35.899701Z",
     "shell.execute_reply": "2023-09-23T15:11:35.898775Z"
    },
    "papermill": {
     "duration": 0.018174,
     "end_time": "2023-09-23T15:11:35.901775",
     "exception": false,
     "start_time": "2023-09-23T15:11:35.883601",
     "status": "completed"
    },
    "tags": []
   },
   "outputs": [],
   "source": [
    "# Define routes\n",
    "\n",
    "# orginal path\n",
    "path_file_cat = 'data/dogs_vs_cats/PetImages/Cat'\n",
    "path_file_dog = 'data/dogs_vs_cats/PetImages/Dog'\n",
    "\n",
    "base_dir = 'data/dogs_vs_cats/binclass_model'\n",
    "\n",
    "# Train folder\n",
    "Train_dir = os.path.join(base_dir, 'Train')\n",
    "\n",
    "# cat folder in train\n",
    "cat_train_dir = os.path.join(Train_dir, 'cat')\n",
    "\n",
    "# dog folder in train\n",
    "dog_train_dir = os.path.join(Train_dir, 'dog')\n",
    "\n",
    "# Test Folder\n",
    "Test_dir = os.path.join(base_dir, 'Test')\n",
    "\n",
    "# cat folder in test\n",
    "cat_test_dir = os.path.join(Test_dir, 'cat')\n",
    "\n",
    "# dog folder in test\n",
    "dog_test_dir = os.path.join(Test_dir, 'dog')\n",
    "\n",
    "# validation folder\n",
    "valid_dir = os.path.join(base_dir, 'validation')\n",
    "\n",
    "# cat folder in validation\n",
    "cat_val_dir = os.path.join(valid_dir, 'cat')\n",
    "\n",
    "# dog folder in validation\n",
    "dog_val_dir = os.path.join(valid_dir, 'dog')"
   ]
  },
  {
   "cell_type": "code",
   "execution_count": 4,
   "id": "c3782dcc",
   "metadata": {
    "execution": {
     "iopub.execute_input": "2023-09-23T15:11:35.918670Z",
     "iopub.status.busy": "2023-09-23T15:11:35.918398Z",
     "iopub.status.idle": "2023-09-23T15:11:35.925692Z",
     "shell.execute_reply": "2023-09-23T15:11:35.924866Z"
    },
    "papermill": {
     "duration": 0.018365,
     "end_time": "2023-09-23T15:11:35.927906",
     "exception": false,
     "start_time": "2023-09-23T15:11:35.909541",
     "status": "completed"
    },
    "tags": []
   },
   "outputs": [],
   "source": [
    "# Creating folders\n",
    "os.mkdir(base_dir)\n",
    "\n",
    "# Train folder\n",
    "os.mkdir(Train_dir)\n",
    "\n",
    "# cat folder in train\n",
    "os.mkdir(cat_train_dir)\n",
    "\n",
    "# dog folder in train\n",
    "os.mkdir(dog_train_dir)\n",
    "\n",
    "# Test Folder\n",
    "os.mkdir(Test_dir)\n",
    "\n",
    "# cat folder in test\n",
    "os.mkdir(cat_test_dir)\n",
    "\n",
    "# dog folder in test\n",
    "os.mkdir(dog_test_dir)\n",
    "\n",
    "# validation folder\n",
    "os.mkdir(valid_dir)\n",
    "\n",
    "# cat folder in validation\n",
    "os.mkdir(cat_val_dir)\n",
    "\n",
    "# dog folder in validation\n",
    "os.mkdir(dog_val_dir)"
   ]
  },
  {
   "cell_type": "code",
   "execution_count": 5,
   "id": "fb1ed3ae",
   "metadata": {
    "execution": {
     "iopub.execute_input": "2023-09-23T15:11:35.944838Z",
     "iopub.status.busy": "2023-09-23T15:11:35.944589Z",
     "iopub.status.idle": "2023-09-23T15:11:35.956226Z",
     "shell.execute_reply": "2023-09-23T15:11:35.955155Z"
    },
    "papermill": {
     "duration": 0.022913,
     "end_time": "2023-09-23T15:11:35.958884",
     "exception": false,
     "start_time": "2023-09-23T15:11:35.935971",
     "status": "completed"
    },
    "tags": []
   },
   "outputs": [],
   "source": [
    "train_list_cat_file = [f'{i}.jpg' for i in range(6500)]\n",
    "train_list_dog_file = [f'{i}.jpg' for i in range(6500)]\n",
    "\n",
    "test_list_cat_file = [f'{i}.jpg' for i in range(6500, 9500)]\n",
    "test_list_dog_file = [f'{i}.jpg' for i in range(6500, 9500)]\n",
    "\n",
    "val_list_cat_file = [f'{i}.jpg' for i in range(9500, 12500)]\n",
    "val_list_dog_file = [f'{i}.jpg' for i in range(9500, 12500)]"
   ]
  },
  {
   "cell_type": "code",
   "execution_count": 6,
   "id": "6b2d2d58",
   "metadata": {
    "execution": {
     "iopub.execute_input": "2023-09-23T15:11:35.977204Z",
     "iopub.status.busy": "2023-09-23T15:11:35.976890Z",
     "iopub.status.idle": "2023-09-23T15:15:41.414579Z",
     "shell.execute_reply": "2023-09-23T15:15:41.413260Z"
    },
    "papermill": {
     "duration": 245.450573,
     "end_time": "2023-09-23T15:15:41.417314",
     "exception": false,
     "start_time": "2023-09-23T15:11:35.966741",
     "status": "completed"
    },
    "tags": []
   },
   "outputs": [],
   "source": [
    "# organaize cat and dog in train folders\n",
    "# cat\n",
    "for filename in train_list_cat_file:\n",
    "    # src = os.path.join(path_file_cat, filename)\n",
    "    src = os.path.join(path_file_cat_gen, filename)\n",
    "    dst = os.path.join(cat_train_dir, filename)\n",
    "    try:\n",
    "        shutil.copyfile(src, dst)\n",
    "    except FileNotFoundError:\n",
    "        pass  # Ignore the error and continue\n",
    "    \n",
    "# dog\n",
    "for filename in train_list_dog_file:\n",
    "    src = os.path.join(path_file_dog, filename)\n",
    "    dst = os.path.join(dog_train_dir, filename)\n",
    "    try:\n",
    "        shutil.copyfile(src, dst)\n",
    "    except FileNotFoundError:\n",
    "        pass  # Ignore the error and continue\n",
    "    \n",
    "# organaize cat and dog in test folders\n",
    "# cat\n",
    "for filename in test_list_cat_file:\n",
    "    src = os.path.join(path_file_cat, filename)\n",
    "    dst = os.path.join(cat_test_dir, filename)\n",
    "    try:\n",
    "        shutil.copyfile(src, dst)\n",
    "    except FileNotFoundError:\n",
    "        pass  # Ignore the error and continue\n",
    "    \n",
    "# dog\n",
    "for filename in test_list_dog_file:\n",
    "    src = os.path.join(path_file_dog, filename)\n",
    "    dst = os.path.join(dog_test_dir, filename)\n",
    "    try:\n",
    "        shutil.copyfile(src, dst)\n",
    "    except FileNotFoundError:\n",
    "        pass  # Ignore the error and continue\n",
    "    \n",
    "# organaize cat and dog in validation folders\n",
    "# cat\n",
    "for filename in val_list_cat_file:\n",
    "    src = os.path.join(path_file_cat, filename)\n",
    "    dst = os.path.join(cat_val_dir, filename)\n",
    "    try:\n",
    "        shutil.copyfile(src, dst)\n",
    "    except FileNotFoundError:\n",
    "        pass  # Ignore the error and continue\n",
    "    \n",
    "# dog\n",
    "for filename in val_list_dog_file:\n",
    "    src = os.path.join(path_file_dog, filename)\n",
    "    dst = os.path.join(dog_val_dir, filename)\n",
    "    try:\n",
    "        shutil.copyfile(src, dst)\n",
    "    except FileNotFoundError:\n",
    "        pass  # Ignore the error and continue"
   ]
  },
  {
   "cell_type": "code",
   "execution_count": 7,
   "id": "9518716b",
   "metadata": {
    "execution": {
     "iopub.execute_input": "2023-09-23T15:15:41.434992Z",
     "iopub.status.busy": "2023-09-23T15:15:41.434644Z",
     "iopub.status.idle": "2023-09-23T15:15:41.456561Z",
     "shell.execute_reply": "2023-09-23T15:15:41.455659Z"
    },
    "papermill": {
     "duration": 0.033535,
     "end_time": "2023-09-23T15:15:41.459394",
     "exception": false,
     "start_time": "2023-09-23T15:15:41.425859",
     "status": "completed"
    },
    "tags": []
   },
   "outputs": [
    {
     "name": "stdout",
     "output_type": "stream",
     "text": [
      "number of cat img in train folder:  6500\n",
      "number of dog img in train folder:  6500\n",
      "number of cat img in test folder:  3000\n",
      "number of dog img in test folder:  3000\n",
      "number of cat img in validation folder:  3000\n",
      "number of dog img in validation folder:  3000\n"
     ]
    }
   ],
   "source": [
    "print(\"number of cat img in train folder: \", len(os.listdir(cat_train_dir)))\n",
    "print(\"number of dog img in train folder: \", len(os.listdir(dog_train_dir)))\n",
    "print(\"number of cat img in test folder: \", len(os.listdir(cat_test_dir)))\n",
    "print(\"number of dog img in test folder: \", len(os.listdir(dog_test_dir)))\n",
    "print(\"number of cat img in validation folder: \", len(os.listdir(cat_val_dir)))\n",
    "print(\"number of dog img in validation folder: \", len(os.listdir(dog_val_dir)))"
   ]
  },
  {
   "cell_type": "markdown",
   "id": "f694b129",
   "metadata": {
    "papermill": {
     "duration": 0.008075,
     "end_time": "2023-09-23T15:15:41.475776",
     "exception": false,
     "start_time": "2023-09-23T15:15:41.467701",
     "status": "completed"
    },
    "tags": []
   },
   "source": []
  },
  {
   "cell_type": "code",
   "execution_count": 8,
   "id": "622812f1",
   "metadata": {
    "execution": {
     "iopub.execute_input": "2023-09-23T15:15:41.495090Z",
     "iopub.status.busy": "2023-09-23T15:15:41.494471Z",
     "iopub.status.idle": "2023-09-23T15:15:42.811936Z",
     "shell.execute_reply": "2023-09-23T15:15:42.810184Z"
    },
    "papermill": {
     "duration": 1.330508,
     "end_time": "2023-09-23T15:15:42.815219",
     "exception": false,
     "start_time": "2023-09-23T15:15:41.484711",
     "status": "completed"
    },
    "tags": []
   },
   "outputs": [
    {
     "name": "stdout",
     "output_type": "stream",
     "text": [
      "666.jpg\n",
      "11702.jpg\n"
     ]
    }
   ],
   "source": [
    "from PIL import Image\n",
    "for i in os.listdir(cat_train_dir):\n",
    "    try:\n",
    "        Image.open(os.path.join(cat_train_dir, i))\n",
    "    except:\n",
    "        os.remove(os.path.join(cat_train_dir, i))\n",
    "        print(i)\n",
    "for i in os.listdir(dog_val_dir):\n",
    "    try:\n",
    "        Image.open(os.path.join(dog_val_dir, i))\n",
    "    except:\n",
    "        os.remove(os.path.join(dog_val_dir, i))\n",
    "        print(i)"
   ]
  },
  {
   "cell_type": "markdown",
   "id": "c6edc672",
   "metadata": {
    "papermill": {
     "duration": 0.007961,
     "end_time": "2023-09-23T15:15:42.831606",
     "exception": false,
     "start_time": "2023-09-23T15:15:42.823645",
     "status": "completed"
    },
    "tags": []
   },
   "source": [
    "- 666.jpg in cat folder\n",
    "- 11702.jpg in dog folder"
   ]
  },
  {
   "cell_type": "markdown",
   "id": "e7e690aa",
   "metadata": {
    "papermill": {
     "duration": 0.00782,
     "end_time": "2023-09-23T15:15:42.847541",
     "exception": false,
     "start_time": "2023-09-23T15:15:42.839721",
     "status": "completed"
    },
    "tags": []
   },
   "source": [
    "# Creating a model architecture"
   ]
  },
  {
   "cell_type": "code",
   "execution_count": 9,
   "id": "33be3791",
   "metadata": {
    "execution": {
     "iopub.execute_input": "2023-09-23T15:15:42.865752Z",
     "iopub.status.busy": "2023-09-23T15:15:42.864817Z",
     "iopub.status.idle": "2023-09-23T15:16:03.169559Z",
     "shell.execute_reply": "2023-09-23T15:16:03.168557Z"
    },
    "papermill": {
     "duration": 20.316605,
     "end_time": "2023-09-23T15:16:03.172426",
     "exception": false,
     "start_time": "2023-09-23T15:15:42.855821",
     "status": "completed"
    },
    "tags": []
   },
   "outputs": [],
   "source": [
    "from keras import layers \n",
    "from keras import models\n",
    "\n",
    "model = models.Sequential()\n",
    "model.add(layers.Conv2D(32, (3, 3), activation='relu', input_shape=(150,150,3)))\n",
    "model.add(layers.MaxPooling2D((2, 2)))\n",
    "model.add(layers.Conv2D(64, (3, 3), activation='relu'))\n",
    "model.add(layers.MaxPooling2D((2, 2)))\n",
    "model.add(layers.Conv2D(128, (3, 3), activation='relu'))\n",
    "model.add(layers.MaxPooling2D((2, 2)))\n",
    "model.add(layers.Conv2D(128, (3, 3), activation='relu'))   \n",
    "model.add(layers.MaxPooling2D((2, 2)))\n",
    "model.add(layers.Flatten())\n",
    "model.add(layers.Dense(512, activation='relu'))\n",
    "model.add(layers.Dropout(0.2))\n",
    "model.add(layers.Dense(128, activation='relu'))\n",
    "model.add(layers.Dense(1, activation='sigmoid'))"
   ]
  },
  {
   "cell_type": "code",
   "execution_count": 10,
   "id": "6a07e5f9",
   "metadata": {
    "execution": {
     "iopub.execute_input": "2023-09-23T15:16:03.191557Z",
     "iopub.status.busy": "2023-09-23T15:16:03.191269Z",
     "iopub.status.idle": "2023-09-23T15:16:03.225948Z",
     "shell.execute_reply": "2023-09-23T15:16:03.225102Z"
    },
    "papermill": {
     "duration": 0.077804,
     "end_time": "2023-09-23T15:16:03.259731",
     "exception": false,
     "start_time": "2023-09-23T15:16:03.181927",
     "status": "completed"
    },
    "tags": []
   },
   "outputs": [
    {
     "name": "stdout",
     "output_type": "stream",
     "text": [
      "Model: \"sequential\"\n",
      "_________________________________________________________________\n",
      " Layer (type)                Output Shape              Param #   \n",
      "=================================================================\n",
      " conv2d (Conv2D)             (None, 148, 148, 32)      896       \n",
      "                                                                 \n",
      " max_pooling2d (MaxPooling2D  (None, 74, 74, 32)       0         \n",
      " )                                                               \n",
      "                                                                 \n",
      " conv2d_1 (Conv2D)           (None, 72, 72, 64)        18496     \n",
      "                                                                 \n",
      " max_pooling2d_1 (MaxPooling  (None, 36, 36, 64)       0         \n",
      " 2D)                                                             \n",
      "                                                                 \n",
      " conv2d_2 (Conv2D)           (None, 34, 34, 128)       73856     \n",
      "                                                                 \n",
      " max_pooling2d_2 (MaxPooling  (None, 17, 17, 128)      0         \n",
      " 2D)                                                             \n",
      "                                                                 \n",
      " conv2d_3 (Conv2D)           (None, 15, 15, 128)       147584    \n",
      "                                                                 \n",
      " max_pooling2d_3 (MaxPooling  (None, 7, 7, 128)        0         \n",
      " 2D)                                                             \n",
      "                                                                 \n",
      " flatten (Flatten)           (None, 6272)              0         \n",
      "                                                                 \n",
      " dense (Dense)               (None, 512)               3211776   \n",
      "                                                                 \n",
      " dropout (Dropout)           (None, 512)               0         \n",
      "                                                                 \n",
      " dense_1 (Dense)             (None, 128)               65664     \n",
      "                                                                 \n",
      " dense_2 (Dense)             (None, 1)                 129       \n",
      "                                                                 \n",
      "=================================================================\n",
      "Total params: 3,518,401\n",
      "Trainable params: 3,518,401\n",
      "Non-trainable params: 0\n",
      "_________________________________________________________________\n"
     ]
    }
   ],
   "source": [
    "model.summary()"
   ]
  },
  {
   "cell_type": "code",
   "execution_count": 11,
   "id": "81106c64",
   "metadata": {
    "execution": {
     "iopub.execute_input": "2023-09-23T15:16:03.285187Z",
     "iopub.status.busy": "2023-09-23T15:16:03.284806Z",
     "iopub.status.idle": "2023-09-23T15:16:03.303329Z",
     "shell.execute_reply": "2023-09-23T15:16:03.302283Z"
    },
    "papermill": {
     "duration": 0.033978,
     "end_time": "2023-09-23T15:16:03.305707",
     "exception": false,
     "start_time": "2023-09-23T15:16:03.271729",
     "status": "completed"
    },
    "tags": []
   },
   "outputs": [],
   "source": [
    "from keras import optimizers\n",
    "\n",
    "model.compile(loss='binary_crossentropy',\n",
    "              optimizer=optimizers.RMSprop(lr=1e-4),\n",
    "              metrics=['acc'])"
   ]
  },
  {
   "cell_type": "markdown",
   "id": "dfffec29",
   "metadata": {
    "papermill": {
     "duration": 0.011673,
     "end_time": "2023-09-23T15:16:03.328366",
     "exception": false,
     "start_time": "2023-09-23T15:16:03.316693",
     "status": "completed"
    },
    "tags": []
   },
   "source": [
    "# Create generators"
   ]
  },
  {
   "cell_type": "code",
   "execution_count": 12,
   "id": "fd34f02a",
   "metadata": {
    "execution": {
     "iopub.execute_input": "2023-09-23T15:16:03.353553Z",
     "iopub.status.busy": "2023-09-23T15:16:03.352712Z",
     "iopub.status.idle": "2023-09-23T15:16:04.438434Z",
     "shell.execute_reply": "2023-09-23T15:16:04.436390Z"
    },
    "papermill": {
     "duration": 1.100241,
     "end_time": "2023-09-23T15:16:04.440707",
     "exception": false,
     "start_time": "2023-09-23T15:16:03.340466",
     "status": "completed"
    },
    "tags": []
   },
   "outputs": [
    {
     "name": "stdout",
     "output_type": "stream",
     "text": [
      "Found 12999 images belonging to 2 classes.\n",
      "Found 5999 images belonging to 2 classes.\n",
      "Found 6000 images belonging to 2 classes.\n"
     ]
    }
   ],
   "source": [
    "from keras.preprocessing.image import ImageDataGenerator\n",
    "\n",
    "# All images will be rescaled by 1./255\n",
    "train_datagen = ImageDataGenerator(\n",
    "    rescale=1./255,\n",
    "    rotation_range=40,\n",
    "    height_shift_range=0.2,\n",
    "    brightness_range=None,\n",
    "    shear_range=0.2,\n",
    "    zoom_range=0.2,\n",
    "    horizontal_flip=True,\n",
    "    fill_mode='nearest') \n",
    "\n",
    "test_datagen = ImageDataGenerator(rescale=1./255) \n",
    "\n",
    "train_generator = train_datagen.flow_from_directory(\n",
    "    directory=Train_dir,\n",
    "    target_size=(150, 150),\n",
    "    batch_size=20,\n",
    "    class_mode='binary',\n",
    "    seed=42)\n",
    "\n",
    "validation_generator = test_datagen.flow_from_directory(\n",
    "    directory=valid_dir,\n",
    "    target_size=(150, 150),\n",
    "    batch_size=20,\n",
    "    class_mode='binary',\n",
    "    seed=42)\n",
    "test_generator = test_datagen.flow_from_directory(\n",
    "    directory=Test_dir,\n",
    "    target_size=(150, 150),\n",
    "    batch_size=1,\n",
    "    class_mode='binary',\n",
    "    seed=42)\n",
    "\n",
    "STEP_SIZE_TRAIN=train_generator.n//train_generator.batch_size\n",
    "STEP_SIZE_VALID=validation_generator.n//validation_generator.batch_size"
   ]
  },
  {
   "cell_type": "code",
   "execution_count": 13,
   "id": "63155d5b",
   "metadata": {
    "execution": {
     "iopub.execute_input": "2023-09-23T15:16:04.465898Z",
     "iopub.status.busy": "2023-09-23T15:16:04.464981Z",
     "iopub.status.idle": "2023-09-23T15:16:04.470679Z",
     "shell.execute_reply": "2023-09-23T15:16:04.469729Z"
    },
    "papermill": {
     "duration": 0.02063,
     "end_time": "2023-09-23T15:16:04.472814",
     "exception": false,
     "start_time": "2023-09-23T15:16:04.452184",
     "status": "completed"
    },
    "tags": []
   },
   "outputs": [],
   "source": [
    "# from keras import utils\n",
    "\n",
    "# # train_list_cat_file & train_list_dog_file that built before\n",
    "# # we pick one image from \"agument\"\n",
    "# img_path = os.path.join(cat_train_dir, train_list_cat_file[3])\n",
    "# img_path = os.path.join(dog_train_dir, train_list_dog_file[3])\n",
    "\n",
    "# # read the image and resize it\n",
    "# img = utils.load_img(img_path, target_size=(150,150))\n",
    "\n",
    "# # Comnvert it to a numpy array with shape(150,150,3)\n",
    "# x = utils.img_to_array(img)\n",
    "\n",
    "# # Reshape it to (1, 150, 150, 3)\n",
    "# x = x.reshape((1,) + x.shape)\n",
    "\n",
    "# i = 0\n",
    "# for batch in train_datagen.flow(x, batch_size=1):\n",
    "#     plt.figure(i)\n",
    "#     imgplot = plt.imshow(utils.array_to_img(batch[0]))\n",
    "#     i += 1\n",
    "#     if i % 4 == 0:\n",
    "#         break\n",
    "# plt.show()\n"
   ]
  },
  {
   "cell_type": "markdown",
   "id": "8c72f249",
   "metadata": {
    "papermill": {
     "duration": 0.012075,
     "end_time": "2023-09-23T15:16:04.496888",
     "exception": false,
     "start_time": "2023-09-23T15:16:04.484813",
     "status": "completed"
    },
    "tags": []
   },
   "source": [
    "# check generator"
   ]
  },
  {
   "cell_type": "code",
   "execution_count": 14,
   "id": "cca81fe2",
   "metadata": {
    "execution": {
     "iopub.execute_input": "2023-09-23T15:16:04.522494Z",
     "iopub.status.busy": "2023-09-23T15:16:04.520924Z",
     "iopub.status.idle": "2023-09-23T15:16:04.686497Z",
     "shell.execute_reply": "2023-09-23T15:16:04.685137Z"
    },
    "papermill": {
     "duration": 0.1801,
     "end_time": "2023-09-23T15:16:04.688554",
     "exception": false,
     "start_time": "2023-09-23T15:16:04.508454",
     "status": "completed"
    },
    "tags": []
   },
   "outputs": [
    {
     "name": "stdout",
     "output_type": "stream",
     "text": [
      "data batch shape (20, 150, 150, 3)\n",
      "labels batch shape (20,)\n"
     ]
    }
   ],
   "source": [
    "for data_batch, labels_batch in train_generator:\n",
    "    print('data batch shape', data_batch.shape)\n",
    "    print('labels batch shape', labels_batch.shape)\n",
    "    break"
   ]
  },
  {
   "cell_type": "markdown",
   "id": "80b6354b",
   "metadata": {
    "papermill": {
     "duration": 0.011848,
     "end_time": "2023-09-23T15:16:04.712097",
     "exception": false,
     "start_time": "2023-09-23T15:16:04.700249",
     "status": "completed"
    },
    "tags": []
   },
   "source": [
    "# model Training"
   ]
  },
  {
   "cell_type": "code",
   "execution_count": 15,
   "id": "7e6aab00",
   "metadata": {
    "execution": {
     "iopub.execute_input": "2023-09-23T15:16:04.736177Z",
     "iopub.status.busy": "2023-09-23T15:16:04.735319Z",
     "iopub.status.idle": "2023-09-23T16:09:45.002195Z",
     "shell.execute_reply": "2023-09-23T16:09:45.001095Z"
    },
    "papermill": {
     "duration": 3220.281463,
     "end_time": "2023-09-23T16:09:45.004831",
     "exception": false,
     "start_time": "2023-09-23T15:16:04.723368",
     "status": "completed"
    },
    "tags": []
   },
   "outputs": [
    {
     "name": "stdout",
     "output_type": "stream",
     "text": [
      "Epoch 1/25\n",
      "649/649 [==============================] - 139s 194ms/step - loss: 0.6623 - acc: 0.5913 - val_loss: 0.6237 - val_acc: 0.6490\n",
      "Epoch 2/25\n",
      "649/649 [==============================] - 114s 176ms/step - loss: 0.5914 - acc: 0.6796 - val_loss: 0.5141 - val_acc: 0.7562\n",
      "Epoch 3/25\n",
      "649/649 [==============================] - 118s 181ms/step - loss: 0.5545 - acc: 0.7141 - val_loss: 0.5019 - val_acc: 0.7599\n",
      "Epoch 4/25\n",
      "649/649 [==============================] - 126s 194ms/step - loss: 0.5217 - acc: 0.7370 - val_loss: 0.4823 - val_acc: 0.7711\n",
      "Epoch 5/25\n",
      "649/649 [==============================] - 124s 191ms/step - loss: 0.4930 - acc: 0.7618 - val_loss: 0.8816 - val_acc: 0.6478\n",
      "Epoch 6/25\n",
      "649/649 [==============================] - 126s 194ms/step - loss: 0.4800 - acc: 0.7674 - val_loss: 0.4399 - val_acc: 0.7977\n",
      "Epoch 7/25\n",
      "649/649 [==============================] - 126s 194ms/step - loss: 0.4659 - acc: 0.7793 - val_loss: 0.4032 - val_acc: 0.8184\n",
      "Epoch 8/25\n",
      "649/649 [==============================] - 126s 194ms/step - loss: 0.4497 - acc: 0.7873 - val_loss: 0.4087 - val_acc: 0.8181\n",
      "Epoch 9/25\n",
      "649/649 [==============================] - 118s 181ms/step - loss: 0.4365 - acc: 0.7975 - val_loss: 0.4137 - val_acc: 0.8166\n",
      "Epoch 10/25\n",
      "649/649 [==============================] - 127s 196ms/step - loss: 0.4249 - acc: 0.8059 - val_loss: 0.3845 - val_acc: 0.8273\n",
      "Epoch 11/25\n",
      "649/649 [==============================] - 116s 178ms/step - loss: 0.4152 - acc: 0.8069 - val_loss: 0.5950 - val_acc: 0.7420\n",
      "Epoch 12/25\n",
      "649/649 [==============================] - 117s 180ms/step - loss: 0.4067 - acc: 0.8182 - val_loss: 0.3609 - val_acc: 0.8483\n",
      "Epoch 13/25\n",
      "649/649 [==============================] - 126s 195ms/step - loss: 0.3944 - acc: 0.8242 - val_loss: 0.3529 - val_acc: 0.8510\n",
      "Epoch 14/25\n",
      "649/649 [==============================] - 126s 195ms/step - loss: 0.3862 - acc: 0.8274 - val_loss: 0.4088 - val_acc: 0.8167\n",
      "Epoch 15/25\n",
      "649/649 [==============================] - 116s 179ms/step - loss: 0.3769 - acc: 0.8329 - val_loss: 0.4300 - val_acc: 0.8239\n",
      "Epoch 16/25\n",
      "649/649 [==============================] - 126s 194ms/step - loss: 0.3676 - acc: 0.8368 - val_loss: 0.3636 - val_acc: 0.8487\n",
      "Epoch 17/25\n",
      "649/649 [==============================] - 127s 195ms/step - loss: 0.3558 - acc: 0.8421 - val_loss: 0.3353 - val_acc: 0.8615\n",
      "Epoch 18/25\n",
      "649/649 [==============================] - 127s 196ms/step - loss: 0.3516 - acc: 0.8454 - val_loss: 0.3052 - val_acc: 0.8697\n",
      "Epoch 19/25\n",
      "649/649 [==============================] - 118s 182ms/step - loss: 0.3480 - acc: 0.8518 - val_loss: 0.3363 - val_acc: 0.8557\n",
      "Epoch 20/25\n",
      "649/649 [==============================] - 126s 195ms/step - loss: 0.3399 - acc: 0.8538 - val_loss: 0.3350 - val_acc: 0.8627\n",
      "Epoch 21/25\n",
      "649/649 [==============================] - 128s 197ms/step - loss: 0.3366 - acc: 0.8533 - val_loss: 0.3270 - val_acc: 0.8661\n",
      "Epoch 22/25\n",
      "649/649 [==============================] - 128s 197ms/step - loss: 0.3251 - acc: 0.8581 - val_loss: 0.4031 - val_acc: 0.8637\n",
      "Epoch 23/25\n",
      "649/649 [==============================] - 118s 181ms/step - loss: 0.3275 - acc: 0.8616 - val_loss: 0.3185 - val_acc: 0.8637\n",
      "Epoch 24/25\n",
      "649/649 [==============================] - 116s 179ms/step - loss: 0.3188 - acc: 0.8664 - val_loss: 0.3156 - val_acc: 0.8732\n",
      "Epoch 25/25\n",
      "649/649 [==============================] - 117s 181ms/step - loss: 0.3175 - acc: 0.8665 - val_loss: 0.2958 - val_acc: 0.8783\n"
     ]
    }
   ],
   "source": [
    "history = model.fit(\n",
    "    train_generator,\n",
    "    steps_per_epoch=STEP_SIZE_TRAIN,\n",
    "    epochs=25,\n",
    "    validation_data=validation_generator,\n",
    "    validation_steps=STEP_SIZE_VALID)"
   ]
  },
  {
   "cell_type": "markdown",
   "id": "cf100323",
   "metadata": {
    "papermill": {
     "duration": 1.280971,
     "end_time": "2023-09-23T16:09:47.708378",
     "exception": false,
     "start_time": "2023-09-23T16:09:46.427407",
     "status": "completed"
    },
    "tags": []
   },
   "source": [
    "# Save model's weights"
   ]
  },
  {
   "cell_type": "code",
   "execution_count": 16,
   "id": "df734941",
   "metadata": {
    "execution": {
     "iopub.execute_input": "2023-09-23T16:09:50.341382Z",
     "iopub.status.busy": "2023-09-23T16:09:50.340370Z",
     "iopub.status.idle": "2023-09-23T16:09:50.406594Z",
     "shell.execute_reply": "2023-09-23T16:09:50.405627Z"
    },
    "papermill": {
     "duration": 1.363287,
     "end_time": "2023-09-23T16:09:50.409046",
     "exception": false,
     "start_time": "2023-09-23T16:09:49.045759",
     "status": "completed"
    },
    "tags": []
   },
   "outputs": [],
   "source": [
    "model.save_weights('first_try.h5', overwrite=True)"
   ]
  },
  {
   "cell_type": "markdown",
   "id": "85a293a2",
   "metadata": {
    "papermill": {
     "duration": 1.414079,
     "end_time": "2023-09-23T16:09:53.157697",
     "exception": false,
     "start_time": "2023-09-23T16:09:51.743618",
     "status": "completed"
    },
    "tags": []
   },
   "source": [
    "# Result Plot"
   ]
  },
  {
   "cell_type": "code",
   "execution_count": 17,
   "id": "678c1313",
   "metadata": {
    "execution": {
     "iopub.execute_input": "2023-09-23T16:09:55.781165Z",
     "iopub.status.busy": "2023-09-23T16:09:55.780789Z",
     "iopub.status.idle": "2023-09-23T16:09:56.462138Z",
     "shell.execute_reply": "2023-09-23T16:09:56.461036Z"
    },
    "papermill": {
     "duration": 2.028228,
     "end_time": "2023-09-23T16:09:56.464730",
     "exception": false,
     "start_time": "2023-09-23T16:09:54.436502",
     "status": "completed"
    },
    "tags": []
   },
   "outputs": [
    {
     "name": "stdout",
     "output_type": "stream",
     "text": [
      "dict_keys(['loss', 'acc', 'val_loss', 'val_acc'])\n"
     ]
    },
    {
     "data": {
      "image/png": "[encoded data removed]",
      "text/plain": [
       "<Figure size 640x480 with 1 Axes>"
      ]
     },
     "metadata": {},
     "output_type": "display_data"
    },
    {
     "data": {
      "image/png": "[encoded data removed]",
      "text/plain": [
       "<Figure size 640x480 with 1 Axes>"
      ]
     },
     "metadata": {},
     "output_type": "display_data"
    }
   ],
   "source": [
    "print(history.history.keys())\n",
    "# summarize history for accuracy\n",
    "import matplotlib.pyplot as plt\n",
    "plt.plot(history.history['acc'])\n",
    "plt.plot(history.history['val_acc'])\n",
    "plt.title('model accuracy')\n",
    "plt.ylabel('accuracy')\n",
    "plt.xlabel('epoch')\n",
    "plt.legend(['train', 'test'], loc='upper left')\n",
    "plt.show()\n",
    "# summarize history for loss\n",
    "plt.plot(history.history['loss'])\n",
    "plt.plot(history.history['val_loss'])\n",
    "plt.title('model loss')\n",
    "plt.ylabel('loss')\n",
    "plt.xlabel('epoch')\n",
    "plt.legend(['train', 'test'], loc='upper left')\n",
    "plt.show()"
   ]
  },
  {
   "cell_type": "code",
   "execution_count": 18,
   "id": "9b1d3bc7",
   "metadata": {
    "execution": {
     "iopub.execute_input": "2023-09-23T16:09:59.125833Z",
     "iopub.status.busy": "2023-09-23T16:09:59.125476Z",
     "iopub.status.idle": "2023-09-23T16:10:19.677835Z",
     "shell.execute_reply": "2023-09-23T16:10:19.676854Z"
    },
    "papermill": {
     "duration": 21.904948,
     "end_time": "2023-09-23T16:10:19.680040",
     "exception": false,
     "start_time": "2023-09-23T16:09:57.775092",
     "status": "completed"
    },
    "tags": []
   },
   "outputs": [
    {
     "data": {
      "text/plain": [
       "[0.2954530417919159, 0.8785952925682068]"
      ]
     },
     "execution_count": 18,
     "metadata": {},
     "output_type": "execute_result"
    }
   ],
   "source": [
    "# Evaluate the model\n",
    "model.evaluate_generator(generator=validation_generator,\n",
    "steps=STEP_SIZE_VALID)"
   ]
  },
  {
   "cell_type": "markdown",
   "id": "955f9448",
   "metadata": {
    "papermill": {
     "duration": 1.36329,
     "end_time": "2023-09-23T16:10:22.330353",
     "exception": false,
     "start_time": "2023-09-23T16:10:20.967063",
     "status": "completed"
    },
    "tags": []
   },
   "source": [
    "# Save and Load the model architecture"
   ]
  },
  {
   "cell_type": "code",
   "execution_count": 19,
   "id": "71600ae4",
   "metadata": {
    "execution": {
     "iopub.execute_input": "2023-09-23T16:10:25.063611Z",
     "iopub.status.busy": "2023-09-23T16:10:25.063211Z",
     "iopub.status.idle": "2023-09-23T16:10:25.071134Z",
     "shell.execute_reply": "2023-09-23T16:10:25.069974Z"
    },
    "papermill": {
     "duration": 1.383772,
     "end_time": "2023-09-23T16:10:25.073364",
     "exception": false,
     "start_time": "2023-09-23T16:10:23.689592",
     "status": "completed"
    },
    "tags": []
   },
   "outputs": [],
   "source": [
    "saved_model = model.to_json()\n",
    "import json\n",
    "with open('model_architecture.json', 'w') as outfile:\n",
    "    json.dump(saved_model, outfile)"
   ]
  },
  {
   "cell_type": "code",
   "execution_count": 20,
   "id": "6993958b",
   "metadata": {
    "execution": {
     "iopub.execute_input": "2023-09-23T16:10:27.798487Z",
     "iopub.status.busy": "2023-09-23T16:10:27.798094Z",
     "iopub.status.idle": "2023-09-23T16:10:27.925434Z",
     "shell.execute_reply": "2023-09-23T16:10:27.924501Z"
    },
    "papermill": {
     "duration": 1.462946,
     "end_time": "2023-09-23T16:10:27.927722",
     "exception": false,
     "start_time": "2023-09-23T16:10:26.464776",
     "status": "completed"
    },
    "tags": []
   },
   "outputs": [],
   "source": [
    "from keras.models import model_from_json\n",
    "loaded_model = model_from_json(json.load(open('model_architecture.json', 'r')))"
   ]
  },
  {
   "cell_type": "code",
   "execution_count": 21,
   "id": "55a7c29e",
   "metadata": {
    "execution": {
     "iopub.execute_input": "2023-09-23T16:10:30.563446Z",
     "iopub.status.busy": "2023-09-23T16:10:30.562473Z",
     "iopub.status.idle": "2023-09-23T16:10:30.597631Z",
     "shell.execute_reply": "2023-09-23T16:10:30.596868Z"
    },
    "papermill": {
     "duration": 1.341685,
     "end_time": "2023-09-23T16:10:30.624857",
     "exception": false,
     "start_time": "2023-09-23T16:10:29.283172",
     "status": "completed"
    },
    "tags": []
   },
   "outputs": [
    {
     "name": "stdout",
     "output_type": "stream",
     "text": [
      "Model: \"sequential\"\n",
      "_________________________________________________________________\n",
      " Layer (type)                Output Shape              Param #   \n",
      "=================================================================\n",
      " conv2d (Conv2D)             (None, 148, 148, 32)      896       \n",
      "                                                                 \n",
      " max_pooling2d (MaxPooling2D  (None, 74, 74, 32)       0         \n",
      " )                                                               \n",
      "                                                                 \n",
      " conv2d_1 (Conv2D)           (None, 72, 72, 64)        18496     \n",
      "                                                                 \n",
      " max_pooling2d_1 (MaxPooling  (None, 36, 36, 64)       0         \n",
      " 2D)                                                             \n",
      "                                                                 \n",
      " conv2d_2 (Conv2D)           (None, 34, 34, 128)       73856     \n",
      "                                                                 \n",
      " max_pooling2d_2 (MaxPooling  (None, 17, 17, 128)      0         \n",
      " 2D)                                                             \n",
      "                                                                 \n",
      " conv2d_3 (Conv2D)           (None, 15, 15, 128)       147584    \n",
      "                                                                 \n",
      " max_pooling2d_3 (MaxPooling  (None, 7, 7, 128)        0         \n",
      " 2D)                                                             \n",
      "                                                                 \n",
      " flatten (Flatten)           (None, 6272)              0         \n",
      "                                                                 \n",
      " dense (Dense)               (None, 512)               3211776   \n",
      "                                                                 \n",
      " dropout (Dropout)           (None, 512)               0         \n",
      "                                                                 \n",
      " dense_1 (Dense)             (None, 128)               65664     \n",
      "                                                                 \n",
      " dense_2 (Dense)             (None, 1)                 129       \n",
      "                                                                 \n",
      "=================================================================\n",
      "Total params: 3,518,401\n",
      "Trainable params: 3,518,401\n",
      "Non-trainable params: 0\n",
      "_________________________________________________________________\n"
     ]
    }
   ],
   "source": [
    "loaded_model.summary()"
   ]
  },
  {
   "cell_type": "code",
   "execution_count": null,
   "id": "4fadc0de",
   "metadata": {
    "papermill": {
     "duration": 1.843465,
     "end_time": "2023-09-23T16:10:33.980019",
     "exception": false,
     "start_time": "2023-09-23T16:10:32.136554",
     "status": "completed"
    },
    "tags": []
   },
   "outputs": [],
   "source": []
  }
 ],
 "metadata": {
  "kernelspec": {
   "display_name": "Python 3",
   "language": "python",
   "name": "python3"
  },
  "language_info": {
   "codemirror_mode": {
    "name": "ipython",
    "version": 3
   },
   "file_extension": ".py",
   "mimetype": "text/x-python",
   "name": "python",
   "nbconvert_exporter": "python",
   "pygments_lexer": "ipython3",
   "version": "3.10.12"
  },
  "papermill": {
   "default_parameters": {},
   "duration": 3549.106154,
   "end_time": "2023-09-23T16:10:38.742139",
   "environment_variables": {},
   "exception": null,
   "input_path": "__notebook__.ipynb",
   "output_path": "__notebook__.ipynb",
   "parameters": {},
   "start_time": "2023-09-23T15:11:29.635985",
   "version": "2.4.0"
  }
 },
 "nbformat": 4,
 "nbformat_minor": 5
}
